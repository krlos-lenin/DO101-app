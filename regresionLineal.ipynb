{
  "nbformat": 4,
  "nbformat_minor": 0,
  "metadata": {
    "colab": {
      "provenance": [],
      "include_colab_link": true
    },
    "kernelspec": {
      "name": "python3",
      "display_name": "Python 3"
    }
  },
  "cells": [
    {
      "cell_type": "markdown",
      "metadata": {
        "id": "view-in-github",
        "colab_type": "text"
      },
      "source": [
        "<a href=\"https://colab.research.google.com/github/krlos-lenin/DO101-app/blob/main/regresionLineal.ipynb\" target=\"_parent\"><img src=\"https://colab.research.google.com/assets/colab-badge.svg\" alt=\"Open In Colab\"/></a>"
      ]
    },
    {
      "cell_type": "markdown",
      "source": [
        "## Maestría en Ingeniería de Sistemas - UNA PUNO\n",
        "Aplicación de regresión lineal"
      ],
      "metadata": {
        "id": "ToqwksTwRhw3"
      }
    },
    {
      "cell_type": "code",
      "metadata": {
        "id": "0Iy686NX7SBz",
        "colab": {
          "base_uri": "https://localhost:8080/",
          "height": 1000
        },
        "outputId": "7f53dcbe-601e-4969-875d-679d33c9fddc"
      },
      "source": [
        "import numpy as np\n",
        "#libreria para \n",
        "from sklearn import datasets, linear_model\n",
        "# grafico de nueve para datos\n",
        "import matplotlib.pyplot as plt\n",
        "####preparar data\n",
        "boston = datasets.load_boston()\n",
        "print(boston.keys())\n",
        "print()\n",
        "print(boston.DESCR) #muestra la descripcion de los datos\n",
        "print('cantidad de datos:',boston.data.shape)\n",
        "print('nombres de columnas: ',boston.feature_names)\n",
        "#trabajaremos con el número de habitaciones de la casa [RM]\n",
        "X = boston.data[:, np.newaxis, 5]\n",
        "\n",
        "#definimos las etiquetas\n",
        "y= boston.target\n",
        "\n",
        "#Graficamos los datos correspondientes\n",
        "plt.scatter(X, y)\n",
        "plt.xlabel('Numero de habitaciones')\n",
        "plt.ylabel('Valor medio')\n",
        "plt.show()\n",
        "\n",
        "#####implementamos regresion lineal simple\n",
        "from sklearn.model_selection import train_test_split\n",
        "\n",
        "##separamos los datos de \"train\" en entrenamiento y prueba para probar el algoritmo\n",
        "X_train, X_test, y_train, y_test = train_test_split(X, y, test_size=0.2)\n",
        "\n",
        "#se define el algoritmo a utilizar\n",
        "lr = linear_model.LinearRegression()\n",
        "\n",
        "#entrenamos el modelo\n",
        "lr.fit(X_train, y_train)\n",
        "\n",
        "#realiza la prediccion\n",
        "Y_pred = lr.predict(X_test)\n",
        "\n",
        "#graficamos los datos junto al modelo\n",
        "plt.scatter(X_test, y_test)\n",
        "plt.plot(X_test, Y_pred, color='red', linewidth=3)\n",
        "plt.title('Regresión lineal simple')\n",
        "plt.xlabel('Número de habitaciones')\n",
        "plt.ylabel('valor medio')\n",
        "plt.show()\n",
        "\n",
        "### valores calculados de acuerdo a Y = a + bX\n",
        "print()\n",
        "print('DATOS DEL MODELO DE REGRESION LINEAL SIMPLE Y = a + bX')\n",
        "print('VALOR DE INTERSECCION a:', lr.intercept_)\n",
        "print('VALOR DE LA PENDIENTE b:', lr.coef_)\n",
        "\n",
        "##precision del modelo\n",
        "print()\n",
        "print('Precisión del modelo (entrenamiento):', lr.score(X_train, y_train))\n",
        "print('Precisión del modelo (pruebas):', lr.score(X_test, y_test))"
      ],
      "execution_count": null,
      "outputs": [
        {
          "output_type": "stream",
          "name": "stdout",
          "text": [
            "dict_keys(['data', 'target', 'feature_names', 'DESCR', 'filename', 'data_module'])\n",
            "\n",
            ".. _boston_dataset:\n",
            "\n",
            "Boston house prices dataset\n",
            "---------------------------\n",
            "\n",
            "**Data Set Characteristics:**  \n",
            "\n",
            "    :Number of Instances: 506 \n",
            "\n",
            "    :Number of Attributes: 13 numeric/categorical predictive. Median Value (attribute 14) is usually the target.\n",
            "\n",
            "    :Attribute Information (in order):\n",
            "        - CRIM     per capita crime rate by town\n",
            "        - ZN       proportion of residential land zoned for lots over 25,000 sq.ft.\n",
            "        - INDUS    proportion of non-retail business acres per town\n",
            "        - CHAS     Charles River dummy variable (= 1 if tract bounds river; 0 otherwise)\n",
            "        - NOX      nitric oxides concentration (parts per 10 million)\n",
            "        - RM       average number of rooms per dwelling\n",
            "        - AGE      proportion of owner-occupied units built prior to 1940\n",
            "        - DIS      weighted distances to five Boston employment centres\n",
            "        - RAD      index of accessibility to radial highways\n",
            "        - TAX      full-value property-tax rate per $10,000\n",
            "        - PTRATIO  pupil-teacher ratio by town\n",
            "        - B        1000(Bk - 0.63)^2 where Bk is the proportion of black people by town\n",
            "        - LSTAT    % lower status of the population\n",
            "        - MEDV     Median value of owner-occupied homes in $1000's\n",
            "\n",
            "    :Missing Attribute Values: None\n",
            "\n",
            "    :Creator: Harrison, D. and Rubinfeld, D.L.\n",
            "\n",
            "This is a copy of UCI ML housing dataset.\n",
            "https://archive.ics.uci.edu/ml/machine-learning-databases/housing/\n",
            "\n",
            "\n",
            "This dataset was taken from the StatLib library which is maintained at Carnegie Mellon University.\n",
            "\n",
            "The Boston house-price data of Harrison, D. and Rubinfeld, D.L. 'Hedonic\n",
            "prices and the demand for clean air', J. Environ. Economics & Management,\n",
            "vol.5, 81-102, 1978.   Used in Belsley, Kuh & Welsch, 'Regression diagnostics\n",
            "...', Wiley, 1980.   N.B. Various transformations are used in the table on\n",
            "pages 244-261 of the latter.\n",
            "\n",
            "The Boston house-price data has been used in many machine learning papers that address regression\n",
            "problems.   \n",
            "     \n",
            ".. topic:: References\n",
            "\n",
            "   - Belsley, Kuh & Welsch, 'Regression diagnostics: Identifying Influential Data and Sources of Collinearity', Wiley, 1980. 244-261.\n",
            "   - Quinlan,R. (1993). Combining Instance-Based and Model-Based Learning. In Proceedings on the Tenth International Conference of Machine Learning, 236-243, University of Massachusetts, Amherst. Morgan Kaufmann.\n",
            "\n",
            "cantidad de datos: (506, 13)\n",
            "nombres de columnas:  ['CRIM' 'ZN' 'INDUS' 'CHAS' 'NOX' 'RM' 'AGE' 'DIS' 'RAD' 'TAX' 'PTRATIO'\n",
            " 'B' 'LSTAT']\n"
          ]
        },
        {
          "output_type": "stream",
          "name": "stderr",
          "text": [
            "/usr/local/lib/python3.7/dist-packages/sklearn/utils/deprecation.py:87: FutureWarning: Function load_boston is deprecated; `load_boston` is deprecated in 1.0 and will be removed in 1.2.\n",
            "\n",
            "    The Boston housing prices dataset has an ethical problem. You can refer to\n",
            "    the documentation of this function for further details.\n",
            "\n",
            "    The scikit-learn maintainers therefore strongly discourage the use of this\n",
            "    dataset unless the purpose of the code is to study and educate about\n",
            "    ethical issues in data science and machine learning.\n",
            "\n",
            "    In this special case, you can fetch the dataset from the original\n",
            "    source::\n",
            "\n",
            "        import pandas as pd\n",
            "        import numpy as np\n",
            "\n",
            "\n",
            "        data_url = \"http://lib.stat.cmu.edu/datasets/boston\"\n",
            "        raw_df = pd.read_csv(data_url, sep=\"\\s+\", skiprows=22, header=None)\n",
            "        data = np.hstack([raw_df.values[::2, :], raw_df.values[1::2, :2]])\n",
            "        target = raw_df.values[1::2, 2]\n",
            "\n",
            "    Alternative datasets include the California housing dataset (i.e.\n",
            "    :func:`~sklearn.datasets.fetch_california_housing`) and the Ames housing\n",
            "    dataset. You can load the datasets as follows::\n",
            "\n",
            "        from sklearn.datasets import fetch_california_housing\n",
            "        housing = fetch_california_housing()\n",
            "\n",
            "    for the California housing dataset and::\n",
            "\n",
            "        from sklearn.datasets import fetch_openml\n",
            "        housing = fetch_openml(name=\"house_prices\", as_frame=True)\n",
            "\n",
            "    for the Ames housing dataset.\n",
            "    \n",
            "  warnings.warn(msg, category=FutureWarning)\n"
          ]
        },
        {
          "output_type": "display_data",
          "data": {
            "text/plain": [
              "<Figure size 432x288 with 1 Axes>"
            ],
            "image/png": "[encoded data removed]"
          },
          "metadata": {
            "needs_background": "light"
          }
        },
        {
          "output_type": "display_data",
          "data": {
            "text/plain": [
              "<Figure size 432x288 with 1 Axes>"
            ],
            "image/png": "[encoded data removed]"
          },
          "metadata": {
            "needs_background": "light"
          }
        },
        {
          "output_type": "stream",
          "name": "stdout",
          "text": [
            "\n",
            "DATOS DEL MODELO DE REGRESION LINEAL SIMPLE Y = a + bX\n",
            "VALOR DE INTERSECCION a: -38.49565265545617\n",
            "VALOR DE LA PENDIENTE b: [9.63543658]\n",
            "\n",
            "Precisión del modelo (entrenamiento): 0.5171380172807725\n",
            "Precisión del modelo (pruebas): 0.3722375707733361\n"
          ]
        }
      ]
    },
    {
      "cell_type": "code",
      "source": [
        "x=np.linspace(-50,150,50)\n",
        "y=0.15*x**3 - 20*x**2 + 5*x - 4 + 5000*np.random.randn(50)\n",
        "plt.scatter(x, y, color=\"black\")\n",
        "model_linear=LinearRegression(fit_intercept=True)\n",
        "model_squared=LinearRegression(fit_intercept=True)\n",
        "model_cubic=LinearRegression(fit_intercept=True)\n",
        "x2=x**2\n",
        "x3=x**3\n",
        "model_linear.fit(np.vstack([x]).T, y)\n",
        "model_squared.fit(np.vstack([x,x2]).T, y)\n",
        "model_cubic.fit(np.vstack([x,x2,x3]).T, y)\n",
        "xf=np.linspace(-50,150, 50)\n",
        "yf_linear=model_linear.predict(np.vstack([x]).T)\n",
        "yf_squared=model_squared.predict(np.vstack([x,x2]).T)\n",
        "yf_cubic=model_cubic.predict(np.vstack([x,x2,x3]).T)\n",
        "plt.plot(xf,yf_linear, label=\"linear\")\n",
        "plt.plot(xf,yf_squared, label=\"squared\")\n",
        "plt.plot(xf,yf_cubic, label=\"cubic\")\n",
        "plt.legend()\n",
        "print(\"Coefficients:\", model_cubic.coef_)\n",
        "print(\"Intercept:\", model_cubic.intercept_)"
      ],
      "metadata": {
        "id": "iYnOkbqrVjU3"
      },
      "execution_count": null,
      "outputs": []
    },
    {
      "cell_type": "code",
      "metadata": {
        "id": "YPDRvSE455jU",
        "colab": {
          "base_uri": "https://localhost:8080/"
        },
        "outputId": "d137c783-bebf-449a-ed04-e54be6d7814c"
      },
      "source": [
        "y_test"
      ],
      "execution_count": null,
      "outputs": [
        {
          "output_type": "execute_result",
          "data": {
            "text/plain": [
              "array([18.7, 35.4, 22.9, 22. , 25. , 18.3, 24.8, 22.5, 24.1,  5. , 21.7,\n",
              "       31.6, 21.7, 19.6, 50. , 27.5, 33.2, 24.3, 17.9, 22.3, 23.3,  8.4,\n",
              "        8.5, 30.1, 19.5, 13.9, 13.8, 46.7, 22.6,  8.3, 29.6, 21.9, 23.7,\n",
              "       36.5, 15.7, 19.6, 23.8, 50. , 19.4, 35.2, 20.5, 11.7, 21.7, 17.4,\n",
              "       37. , 18.9, 18.5, 22.1, 35.4, 17.8, 16.7, 24.1, 22. , 12.5, 21.5,\n",
              "       17.5, 18.6, 25.2, 30.8, 22.4, 28.4, 24.4, 24.3, 10.5, 12.1, 18.9,\n",
              "       17.8, 21.4, 19.5, 31.7, 13.1, 33.1, 21.8, 21. , 20.2,  8.1,  9.5,\n",
              "       15.4, 29.1, 26.4, 21.9, 21.7, 14.6, 43.1, 24.7, 23.9, 21. , 18.8,\n",
              "       22.9, 22.6, 20. , 15.6, 19.3, 18.2, 21.4, 23.8, 50. , 20.6, 17.1,\n",
              "       34.9, 14.5, 13.4])"
            ]
          },
          "metadata": {},
          "execution_count": 6
        }
      ]
    },
    {
      "cell_type": "code",
      "source": [
        "Y_pred"
      ],
      "metadata": {
        "colab": {
          "base_uri": "https://localhost:8080/"
        },
        "id": "VuKLN3gVFdiG",
        "outputId": "575aa4fa-dc10-4655-da3e-bc1dbd8bea45"
      },
      "execution_count": null,
      "outputs": [
        {
          "output_type": "execute_result",
          "data": {
            "text/plain": [
              "array([17.68894979, 28.80670865, 21.54890519, 25.3816778 , 23.6419796 ,\n",
              "       19.38334336, 25.1551546 , 18.06950877, 25.28200759, 17.16341595,\n",
              "       19.02996716, 30.57358964, 21.5217224 , 22.11068274, 37.51426062,\n",
              "       26.62302496, 32.86600447, 21.01431043,  7.60413674, 22.88992256,\n",
              "       21.34956477, 27.501935  , 17.74331536, 27.6650317 , 18.68565189,\n",
              "       25.91627257, 10.12307477, 35.31245508, 21.05055414, 14.13706595,\n",
              "       28.70703844, 45.22511049, 23.59667495, 30.96320956, 16.52915098,\n",
              "       14.635417  , 25.17327646, 40.84868219, 20.31661896, 35.35775972,\n",
              "       22.08349995, 16.09422643, 23.61479681, 19.51019635, 28.65267287,\n",
              "       20.0719739 , 16.45666356, 21.14116342, 31.35282947, 19.25649036,\n",
              "       23.75977166, 21.50360055, 18.85780952, 23.70540609, 19.5917447 ,\n",
              "       16.13047014, 18.98466252, 22.21035294, 25.42698244, 25.40886059,\n",
              "       25.61726194, 24.91050954, 19.86357255, 18.38664126, 23.69634516,\n",
              "       19.02090623, 21.40393034, 22.11068274, 18.84874859, 32.82976076,\n",
              "       23.47888289, 27.52005685, 17.87922928, 18.67659096, 15.10658526,\n",
              "       11.81746834, 23.47888289, 24.43028035, 24.40309756, 24.52088963,\n",
              "       21.01431043, 19.67329306, 21.7120019 , 33.808341  , 21.94758603,\n",
              "       26.34213619, 21.05961507, 18.93935788, 24.04066044, 23.05301926,\n",
              "       18.09669156, 17.83392464, 14.635417  , 20.90557929, 21.51266148,\n",
              "       22.92616627, 41.55543459, 22.2919013 , 17.3718173 , 29.31412063,\n",
              "       23.18893319, 25.735054  ])"
            ]
          },
          "metadata": {},
          "execution_count": 7
        }
      ]
    },
    {
      "cell_type": "markdown",
      "source": [
        "**Trabajo:**\n",
        "¿Cómo mejoraría la eficiencia del modelo?. Implemente el nuevo modelo optimizado"
      ],
      "metadata": {
        "id": "95jp9ywdJhi3"
      }
    }
  ]
}